{
 "cells": [
  {
   "cell_type": "code",
   "execution_count": 6,
   "id": "1b53c64a",
   "metadata": {},
   "outputs": [
    {
     "name": "stdout",
     "output_type": "stream",
     "text": [
      "The coefficient of correlation is :   0.9487862679426301\n"
     ]
    }
   ],
   "source": [
    "\n",
    "# FIND COEFFECIENT OF CORRELETION OF X AND Y\n",
    "import numpy as np\n",
    "import pandas as pd\n",
    "data = {'X' :[78,89,97,69,59,79,68,57],'Y':[125,137,156,112,107,138,123,108]}\n",
    "df = pd.DataFrame(data)\n",
    "x = df['X']\n",
    "y = df['Y']\n",
    "xmean = x.mean()\n",
    "ymean = y.mean()\n",
    "N = len(x)\n",
    "num=((N*(x*y).sum())-(x.sum()*y.sum()))\n",
    "den = np.sqrt(((N*(x**2).sum()-(x.sum())**2)*(N*(y**2).sum()-(y.sum())**2)))\n",
    "R = num/den\n",
    "print (\"The coefficient of correlation is :  \",R)"
   ]
  },
  {
   "cell_type": "code",
   "execution_count": 7,
   "id": "f1385d02",
   "metadata": {},
   "outputs": [
    {
     "name": "stdout",
     "output_type": "stream",
     "text": [
      "0.9487862679426302\n"
     ]
    }
   ],
   "source": [
    "\n",
    "#FIND THE COEFFECIENT OF CORRELATION OF X AND Y\n",
    "import numpy as np\n",
    "x = np.array((78,89,97,69,59,79,68,57))\n",
    "y = np.array((125,137,156,112,107,138,123,108))\n",
    "r = np.corrcoef(x,y)[0,1]\n",
    "print(r)"
   ]
  },
  {
   "cell_type": "code",
   "execution_count": null,
   "id": "a3f58d09",
   "metadata": {},
   "outputs": [],
   "source": []
  }
 ],
 "metadata": {
  "kernelspec": {
   "display_name": "Python 3 (ipykernel)",
   "language": "python",
   "name": "python3"
  },
  "language_info": {
   "codemirror_mode": {
    "name": "ipython",
    "version": 3
   },
   "file_extension": ".py",
   "mimetype": "text/x-python",
   "name": "python",
   "nbconvert_exporter": "python",
   "pygments_lexer": "ipython3",
   "version": "3.11.5"
  }
 },
 "nbformat": 4,
 "nbformat_minor": 5
}
