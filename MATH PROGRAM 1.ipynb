{
 "cells": [
  {
   "cell_type": "code",
   "execution_count": 2,
   "id": "fcfe73ad",
   "metadata": {},
   "outputs": [
    {
     "name": "stdout",
     "output_type": "stream",
     "text": [
      "The mean of X is =    3.0\n",
      "The mean of Y is =     300.0\n"
     ]
    }
   ],
   "source": [
    "#FIND THE MEAN OF X AND Y\n",
    "import numpy as np\n",
    "import pandas as pd\n",
    "data = {'X':[1,2,3,4,5],'Y':[100,200,300,400,500]}\n",
    "df = pd.DataFrame(data)\n",
    "x = df['X']\n",
    "y = df['Y']\n",
    "xmean = x.mean()\n",
    "ymean = y.mean()\n",
    "print ('The mean of X is =   ',xmean)\n",
    "print('The mean of Y is =    ',ymean)"
   ]
  },
  {
   "cell_type": "code",
   "execution_count": 3,
   "id": "0eccc942",
   "metadata": {},
   "outputs": [
    {
     "name": "stdout",
     "output_type": "stream",
     "text": [
      "The mean of X is =    74.5\n",
      "The mean of Y is =     125.75\n"
     ]
    }
   ],
   "source": [
    "#FIND THE MEAN OF X AND Y\n",
    "import numpy as np\n",
    "import pandas as pd\n",
    "data = {'X':[78,89,97,69,59,79,68,57],'Y':[125,137,156,112,107,138,123,108]}\n",
    "df = pd.DataFrame(data)\n",
    "x = df['X']\n",
    "y = df['Y']\n",
    "xmean = x.mean()\n",
    "ymean = y.mean()\n",
    "print ('The mean of X is =   ',xmean)\n",
    "print('The mean of Y is =    ',ymean)"
   ]
  },
  {
   "cell_type": "code",
   "execution_count": 5,
   "id": "16fb5701",
   "metadata": {},
   "outputs": [
    {
     "name": "stdout",
     "output_type": "stream",
     "text": [
      "The mean of experience is =    1.6200000000000003\n",
      "The mean of salary is =     3000.0\n"
     ]
    }
   ],
   "source": [
    "#FIND THE MEAN OF EXPERIENCE AND SALARY\n",
    "\n",
    "\n",
    "import numpy as np\n",
    "import pandas as pd\n",
    "data = {'Experience':[1.1,1.3,1.5,2.0,2.2],'Salary':[1000,2000,3000,4000,5000]}\n",
    "df = pd.DataFrame(data)\n",
    "x = df['Experience']\n",
    "y = df['Salary']\n",
    "xmean = x.mean()\n",
    "ymean = y.mean()\n",
    "print ('The mean of experience is =   ',xmean)\n",
    "print('The mean of salary is =    ',ymean)"
   ]
  },
  {
   "cell_type": "code",
   "execution_count": null,
   "id": "6000dd92",
   "metadata": {},
   "outputs": [],
   "source": [
    "\n",
    "#FIND THE LAPLACE TRANSFORM OF COS2T COS3T\n",
    "from sympy import*\n",
    "import math\n",
    "from sympy.integrals import laplace_transform\n",
    "from sympy.abc import t,s,a\n",
    "f=input(\"Enter the function = \")\n",
    "Ft=factor(f)\n",
    "Fs=apart(laplace_transform(Ft,t,s,noconds=true))\n",
    "print(Fs)"
   ]
  },
  {
   "cell_type": "code",
   "execution_count": null,
   "id": "5e3b8e55",
   "metadata": {},
   "outputs": [],
   "source": [
    "\n",
    "#FIND THE LAPLACE TRANSFORM OF COS2T COS3T\n",
    "from sympy import*\n",
    "import math\n",
    "from sympy.integrals import laplace_transform\n",
    "from sympy.abc import t,s,a\n",
    "f=input(\"Enter the function = \")\n",
    "Ft=factor(f)\n",
    "Fs=apart(laplace_transform(Ft,t,s,noconds=true))\n",
    "print(Fs)"
   ]
  },
  {
   "cell_type": "code",
   "execution_count": null,
   "id": "8ae0fb34",
   "metadata": {},
   "outputs": [],
   "source": []
  },
  {
   "cell_type": "code",
   "execution_count": null,
   "id": "acec3a8c",
   "metadata": {},
   "outputs": [],
   "source": []
  },
  {
   "cell_type": "code",
   "execution_count": null,
   "id": "e73372e8",
   "metadata": {},
   "outputs": [],
   "source": []
  },
  {
   "cell_type": "code",
   "execution_count": null,
   "id": "fe45c4b1",
   "metadata": {},
   "outputs": [],
   "source": []
  },
  {
   "cell_type": "code",
   "execution_count": null,
   "id": "6bdf0deb",
   "metadata": {},
   "outputs": [],
   "source": []
  },
  {
   "cell_type": "code",
   "execution_count": null,
   "id": "2d34ed6b",
   "metadata": {},
   "outputs": [],
   "source": []
  },
  {
   "cell_type": "code",
   "execution_count": null,
   "id": "c75ab7e5",
   "metadata": {},
   "outputs": [],
   "source": []
  },
  {
   "cell_type": "code",
   "execution_count": null,
   "id": "441ed234",
   "metadata": {},
   "outputs": [],
   "source": []
  }
 ],
 "metadata": {
  "kernelspec": {
   "display_name": "Python 3 (ipykernel)",
   "language": "python",
   "name": "python3"
  },
  "language_info": {
   "codemirror_mode": {
    "name": "ipython",
    "version": 3
   },
   "file_extension": ".py",
   "mimetype": "text/x-python",
   "name": "python",
   "nbconvert_exporter": "python",
   "pygments_lexer": "ipython3",
   "version": "3.11.5"
  }
 },
 "nbformat": 4,
 "nbformat_minor": 5
}
