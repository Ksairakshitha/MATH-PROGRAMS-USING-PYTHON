{
 "cells": [
  {
   "cell_type": "code",
   "execution_count": 1,
   "id": "be6e6de5",
   "metadata": {},
   "outputs": [
    {
     "name": "stdout",
     "output_type": "stream",
     "text": [
      "                        2          \n",
      "           d           d           \n",
      "6⋅y(x) - 5⋅──(y(x)) + ───(y(x)) = 0\n",
      "           dx           2          \n",
      "                      dx           \n"
     ]
    },
    {
     "data": {
      "text/latex": [
       "$\\displaystyle y{\\left(x \\right)} = \\left(C_{1} + C_{2} e^{x}\\right) e^{2 x}$"
      ],
      "text/plain": [
       "Eq(y(x), (C1 + C2*exp(x))*exp(2*x))"
      ]
     },
     "metadata": {},
     "output_type": "display_data"
    }
   ],
   "source": [
    "\n",
    "#FIND THE SOLUTION FOR SECOND ORDER DIFFERENTIAL EQUATION\n",
    "from sympy import*\n",
    "x = symbols('x')\n",
    "y = Function('y')(x)\n",
    "DE =Eq((Derivative(y,x,2))-(5*Derivative(y,x))+6*y,0)\n",
    "pprint(DE)\n",
    "display(dsolve(DE))"
   ]
  },
  {
   "cell_type": "code",
   "execution_count": null,
   "id": "da474e1f",
   "metadata": {},
   "outputs": [],
   "source": []
  }
 ],
 "metadata": {
  "kernelspec": {
   "display_name": "Python 3 (ipykernel)",
   "language": "python",
   "name": "python3"
  },
  "language_info": {
   "codemirror_mode": {
    "name": "ipython",
    "version": 3
   },
   "file_extension": ".py",
   "mimetype": "text/x-python",
   "name": "python",
   "nbconvert_exporter": "python",
   "pygments_lexer": "ipython3",
   "version": "3.11.5"
  }
 },
 "nbformat": 4,
 "nbformat_minor": 5
}
