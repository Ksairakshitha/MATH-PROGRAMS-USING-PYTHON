{
 "cells": [
  {
   "cell_type": "code",
   "execution_count": 1,
   "id": "357ead12",
   "metadata": {},
   "outputs": [
    {
     "name": "stdout",
     "output_type": "stream",
     "text": [
      "Curl 0f A =   (-N.x*N.y**2 + N.x*N.z**2)*N.i + (N.x**2*N.y - N.y*N.z**2)*N.j + (-N.x**2*N.z + N.y**2*N.z)*N.k\n"
     ]
    }
   ],
   "source": [
    "\n",
    "#FIND THE CURL OF THE VECTOR FIELD\n",
    "from sympy.vector import*\n",
    "from sympy import symbols\n",
    "N=CoordSys3D('N')\n",
    "x,y,z = symbols('x,y,z')\n",
    "A=N.x**2*N.y*N.z*N.i+N.y**2*N.x*N.z*N.j+N.z**2*N.x*N.y*N.k\n",
    "delop = Del()\n",
    "curlA=delop.cross(A).doit()\n",
    "print(\"Curl 0f A =  \",curlA)"
   ]
  },
  {
   "cell_type": "code",
   "execution_count": null,
   "id": "297f0327",
   "metadata": {},
   "outputs": [],
   "source": []
  }
 ],
 "metadata": {
  "kernelspec": {
   "display_name": "Python 3 (ipykernel)",
   "language": "python",
   "name": "python3"
  },
  "language_info": {
   "codemirror_mode": {
    "name": "ipython",
    "version": 3
   },
   "file_extension": ".py",
   "mimetype": "text/x-python",
   "name": "python",
   "nbconvert_exporter": "python",
   "pygments_lexer": "ipython3",
   "version": "3.11.5"
  }
 },
 "nbformat": 4,
 "nbformat_minor": 5
}
