{
 "cells": [
  {
   "cell_type": "code",
   "execution_count": 1,
   "id": "bc63d2b5",
   "metadata": {},
   "outputs": [
    {
     "name": "stdout",
     "output_type": "stream",
     "text": [
      "     2                                        \n",
      " 2  d            d                    2       \n",
      "x ⋅───(y(x)) - x⋅──(y(x)) - 3⋅y(x) = x ⋅log(x)\n",
      "     2           dx                           \n",
      "   dx                                         \n"
     ]
    },
    {
     "data": {
      "text/latex": [
       "$\\displaystyle y{\\left(x \\right)} = \\frac{C_{1} + \\frac{x^{3} \\left(C_{2} x - 3 \\log{\\left(x \\right)} - 2\\right)}{9}}{x}$"
      ],
      "text/plain": [
       "Eq(y(x), (C1 + x**3*(C2*x - 3*log(x) - 2)/9)/x)"
      ]
     },
     "metadata": {},
     "output_type": "display_data"
    }
   ],
   "source": [
    "\n",
    "#FIND THE SOLUTION OF HOMOGENEOUS LINEAR EQUATION\n",
    "from sympy import*\n",
    "x = symbols('x')\n",
    "y = Function('y')(x)\n",
    "Equ = Eq(((x**2)*Derivative(y,x,2))-(x*Derivative(y,x))-(3*y),((x**2)*log(x)))\n",
    "pprint(Equ)\n",
    "display(dsolve(Equ))"
   ]
  },
  {
   "cell_type": "code",
   "execution_count": null,
   "id": "2f55443e",
   "metadata": {},
   "outputs": [],
   "source": []
  }
 ],
 "metadata": {
  "kernelspec": {
   "display_name": "Python 3 (ipykernel)",
   "language": "python",
   "name": "python3"
  },
  "language_info": {
   "codemirror_mode": {
    "name": "ipython",
    "version": 3
   },
   "file_extension": ".py",
   "mimetype": "text/x-python",
   "name": "python",
   "nbconvert_exporter": "python",
   "pygments_lexer": "ipython3",
   "version": "3.11.5"
  }
 },
 "nbformat": 4,
 "nbformat_minor": 5
}
