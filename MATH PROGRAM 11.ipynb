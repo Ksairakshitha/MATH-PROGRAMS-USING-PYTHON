{
 "cells": [
  {
   "cell_type": "code",
   "execution_count": 1,
   "id": "187167a3",
   "metadata": {},
   "outputs": [
    {
     "name": "stdout",
     "output_type": "stream",
     "text": [
      "Divergence of A =    6*N.x*N.y*N.z\n"
     ]
    }
   ],
   "source": [
    "\n",
    "#FIND THE GRADIENT OF THE FUNCTION\n",
    "from sympy.vector import*\n",
    "from sympy import symbols\n",
    "N = CoordSys3D('N')\n",
    "x,y,z = symbols('x,y,z')\n",
    "A = N.x**2*N.y*N.z*N.i+N.y**2*N.x*N.z*N.j+N.z**2*N.x*N.y*N.k\n",
    "delop=Del()\n",
    "divA=delop.dot(A).doit()\n",
    "print('Divergence of A =   ',divA)"
   ]
  },
  {
   "cell_type": "code",
   "execution_count": null,
   "id": "e9ae7b74",
   "metadata": {},
   "outputs": [],
   "source": []
  }
 ],
 "metadata": {
  "kernelspec": {
   "display_name": "Python 3 (ipykernel)",
   "language": "python",
   "name": "python3"
  },
  "language_info": {
   "codemirror_mode": {
    "name": "ipython",
    "version": 3
   },
   "file_extension": ".py",
   "mimetype": "text/x-python",
   "name": "python",
   "nbconvert_exporter": "python",
   "pygments_lexer": "ipython3",
   "version": "3.11.5"
  }
 },
 "nbformat": 4,
 "nbformat_minor": 5
}
