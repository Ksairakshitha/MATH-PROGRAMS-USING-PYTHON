{
 "cells": [
  {
   "cell_type": "code",
   "execution_count": 1,
   "id": "1189b720",
   "metadata": {},
   "outputs": [
    {
     "name": "stdout",
     "output_type": "stream",
     "text": [
      "Integration  =    45\n"
     ]
    }
   ],
   "source": [
    "\n",
    "#FIND THE CURL OF A VECTOR FIELD\n",
    "from sympy import*\n",
    "x,y = symbols('x,y')\n",
    "y=x**2+1\n",
    "dy=diff(y,x)\n",
    "f=(3*x+y)+(2*y-x)\n",
    "I=integrate(f,[x,0,3])\n",
    "I=simplify(I)\n",
    "print('Integration  =   ',I)"
   ]
  },
  {
   "cell_type": "code",
   "execution_count": null,
   "id": "b9dec111",
   "metadata": {},
   "outputs": [],
   "source": []
  }
 ],
 "metadata": {
  "kernelspec": {
   "display_name": "Python 3 (ipykernel)",
   "language": "python",
   "name": "python3"
  },
  "language_info": {
   "codemirror_mode": {
    "name": "ipython",
    "version": 3
   },
   "file_extension": ".py",
   "mimetype": "text/x-python",
   "name": "python",
   "nbconvert_exporter": "python",
   "pygments_lexer": "ipython3",
   "version": "3.11.5"
  }
 },
 "nbformat": 4,
 "nbformat_minor": 5
}
