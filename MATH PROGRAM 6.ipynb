{
 "cells": [
  {
   "cell_type": "code",
   "execution_count": 4,
   "id": "aa85f616",
   "metadata": {},
   "outputs": [
    {
     "name": "stdout",
     "output_type": "stream",
     "text": [
      "ILT 1/(3*(s + 1)) + 8/(3*(s - 2))\n",
      "LT (8*exp(3*t) + 1)*exp(-t)/3\n"
     ]
    },
    {
     "data": {
      "text/latex": [
       "$\\displaystyle \\frac{\\left(8 e^{3 t} + 1\\right) e^{- t}}{3}$"
      ],
      "text/plain": [
       "(8*exp(3*t) + 1)*exp(-t)/3"
      ]
     },
     "metadata": {},
     "output_type": "display_data"
    }
   ],
   "source": [
    "\n",
    "#FIND THE INVERSE LAPLACE TRANSFORM BY PARTIAL FRACTIONS METHOD\n",
    "from sympy import*\n",
    "from sympy.integrals import inverse_laplace_transform\n",
    "a = symbols('a',real=True)\n",
    "t = symbols('t',positive = True)\n",
    "s = symbols('s')\n",
    "Fs = (3*s+2)/((s+1)*(s-2))\n",
    "Fs = apart(Fs)\n",
    "ILT = simplify((inverse_laplace_transform(Fs,s,t,noconds=True)))\n",
    "print('ILT',Fs)\n",
    "print('LT',ILT)\n",
    "display(ILT)\n",
    "\n",
    "\n"
   ]
  },
  {
   "cell_type": "code",
   "execution_count": null,
   "id": "7371175e",
   "metadata": {},
   "outputs": [],
   "source": []
  }
 ],
 "metadata": {
  "kernelspec": {
   "display_name": "Python 3 (ipykernel)",
   "language": "python",
   "name": "python3"
  },
  "language_info": {
   "codemirror_mode": {
    "name": "ipython",
    "version": 3
   },
   "file_extension": ".py",
   "mimetype": "text/x-python",
   "name": "python",
   "nbconvert_exporter": "python",
   "pygments_lexer": "ipython3",
   "version": "3.11.5"
  }
 },
 "nbformat": 4,
 "nbformat_minor": 5
}
