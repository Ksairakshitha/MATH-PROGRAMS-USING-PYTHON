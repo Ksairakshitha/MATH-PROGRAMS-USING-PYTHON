{
 "cells": [
  {
   "cell_type": "code",
   "execution_count": 1,
   "id": "d4bb3fdb",
   "metadata": {},
   "outputs": [
    {
     "name": "stdout",
     "output_type": "stream",
     "text": [
      "K =  0.0374693449441411\n",
      "T=  t\n",
      "T =  45.9960937500000\n"
     ]
    }
   ],
   "source": [
    "\n",
    "#FIND THE SOLUTION USING NEWTONS LAW OF COOLING\n",
    "from sympy import*\n",
    "t2=20\n",
    "t1=100\n",
    "T=75\n",
    "t=10\n",
    "k1=(1/t)*log((t1-t2)/(T-t2))\n",
    "print('K = ',k1)\n",
    "k = symbols('k')\n",
    "t = symbols('t')\n",
    "T = Function('T')(t)\n",
    "T = t2+(t1-t2)*exp(-k*t)\n",
    "print('T= ',t)\n",
    "k=k1\n",
    "t=30\n",
    "T=t2+(t1-t2)*exp(-k*t)\n",
    "print('T = ',T)"
   ]
  },
  {
   "cell_type": "code",
   "execution_count": 3,
   "id": "3ab2f94a",
   "metadata": {},
   "outputs": [
    {
     "name": "stdout",
     "output_type": "stream",
     "text": [
      "k =  0.0373077191956948\n",
      "t=  log(70)/(k*(T(t) - 30))\n",
      "t =  52.1583787754000\n"
     ]
    }
   ],
   "source": [
    "#KALUVAYI SAI RAKSHITHA Q26\n",
    "#FIND THE SOLUTION USING NEWTONS LAW OF COOLING\n",
    "from sympy import*\n",
    "t2=30\n",
    "t1=100\n",
    "T=70\n",
    "t=15\n",
    "k1=(1/t)*log((t1-t2)/(T-t2))\n",
    "print('k = ',k1)\n",
    "k = symbols('k')\n",
    "t = symbols('t')\n",
    "T = Function('T')(t)\n",
    "t = (1/k)*log(t1-t2)/(T-t2)\n",
    "print('t= ',t)\n",
    "k=k1\n",
    "T=40\n",
    "t=(1/k)*log((t1-t2)/(T-t2))\n",
    "print('t = ',t)"
   ]
  },
  {
   "cell_type": "code",
   "execution_count": null,
   "id": "3ee7ffd3",
   "metadata": {},
   "outputs": [],
   "source": []
  }
 ],
 "metadata": {
  "kernelspec": {
   "display_name": "Python 3 (ipykernel)",
   "language": "python",
   "name": "python3"
  },
  "language_info": {
   "codemirror_mode": {
    "name": "ipython",
    "version": 3
   },
   "file_extension": ".py",
   "mimetype": "text/x-python",
   "name": "python",
   "nbconvert_exporter": "python",
   "pygments_lexer": "ipython3",
   "version": "3.11.5"
  }
 },
 "nbformat": 4,
 "nbformat_minor": 5
}
