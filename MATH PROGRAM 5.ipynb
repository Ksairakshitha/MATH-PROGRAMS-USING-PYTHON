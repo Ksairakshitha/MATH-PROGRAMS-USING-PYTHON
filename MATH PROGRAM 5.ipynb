{
 "cells": [
  {
   "cell_type": "code",
   "execution_count": 2,
   "id": "34491897",
   "metadata": {},
   "outputs": [
    {
     "name": "stdout",
     "output_type": "stream",
     "text": [
      "Enter the function = cos(2*t)*cos(3*t)\n",
      "s/(2*(s**2 + 25)) + s/(2*(s**2 + 1))\n"
     ]
    }
   ],
   "source": [
    "\n",
    "# FIND THE LAPLACE TRANSFORM OF COS2T COS3T\n",
    "from sympy import*\n",
    "import math\n",
    "from sympy.integrals import laplace_transform\n",
    "from sympy.abc import t,s,a\n",
    "f=input(\"Enter the function = \")\n",
    "Ft=factor(f)\n",
    "Fs=apart(laplace_transform(Ft,t,s,noconds=true))\n",
    "print(Fs)"
   ]
  }
 ],
 "metadata": {
  "kernelspec": {
   "display_name": "Python 3 (ipykernel)",
   "language": "python",
   "name": "python3"
  },
  "language_info": {
   "codemirror_mode": {
    "name": "ipython",
    "version": 3
   },
   "file_extension": ".py",
   "mimetype": "text/x-python",
   "name": "python",
   "nbconvert_exporter": "python",
   "pygments_lexer": "ipython3",
   "version": "3.11.5"
  }
 },
 "nbformat": 4,
 "nbformat_minor": 5
}
